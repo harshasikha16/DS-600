{
 "cells": [
  {
   "attachments": {},
   "cell_type": "markdown",
   "id": "590d661c",
   "metadata": {},
   "source": [
    "5.\tUse REGEX to solve the following questions:\n",
    "\n",
    "         String = “[A-zzzzzzz] {1 ,2}[ 0-9R]{[0-9 A-Z]? [0-9_[Ab_c-H{J ABb_cP-AB-Z]{2}”\n",
    "         \n",
    "      - Find the count of all the repeated letters, numbers.\n",
    "      \n",
    "      - Find and get rid of all lower-case letters.\n",
    "      \n",
    "      - Remove “{” brackets.\n",
    "      \n",
    "      - Find sequences of letters AB or Ab.\n",
    "      \n",
    "      - Write a Python program to find sequences of lowercase letters joined with a underscore.\n",
    "      \n",
    "      - Remove all the special characters, brackets, punctuations to get just letters and words.\n",
    "      \n",
    "      - Remove white spaces.\n"
   ]
  },
  {
   "cell_type": "code",
   "execution_count": 2,
   "id": "c9e22f2f",
   "metadata": {},
   "outputs": [
    {
     "name": "stdout",
     "output_type": "stream",
     "text": [
      "1. Count of repeated letters and numbers: 1\n",
      "\n",
      "2. String without lowercase letters:\n",
      " [A-] {1 ,2}[ 0-9R]{[0-9 A-Z]? [0-9_[A_-H{J AB_P-AB-Z]{2}\n",
      "\n",
      "3. String without brackets:\n",
      " [A-zzzzzzz] 1 ,2[ 0-9R][0-9 A-Z]? [0-9_[Ab_c-HJ ABb_cP-AB-Z]2\n",
      "\n",
      "4. AB or Ab sequences:\n",
      " ['Ab', 'AB', 'AB']\n",
      "\n",
      "5. Sequences of lowercase letters joined with an underscore:\n",
      " ['b_c', 'b_c']\n",
      "\n",
      "6. String with only letters and words:\n",
      " Azzzzzzz 1 2 09R09 AZ 09_Ab_cHJ ABb_cPABZ2\n",
      "\n",
      "7. String without white spaces:\n",
      " [A-zzzzzzz]{1,2}[0-9R]{[0-9A-Z]?[0-9_[Ab_c-H{JABb_cP-AB-Z]{2}\n"
     ]
    }
   ],
   "source": [
    " import re\n",
    "\n",
    "# Given string\n",
    "string = \"[A-zzzzzzz] {1 ,2}[ 0-9R]{[0-9 A-Z]? [0-9_[Ab_c-H{J ABb_cP-AB-Z]{2}\"\n",
    "\n",
    "# Find the count of all the repeated letters, numbers.\n",
    "repeated_count = len(re.findall(r'([A-Za-z0-9])\\1+', string))\n",
    "\n",
    "# Find and get rid of all lower-case letters.\n",
    "no_lower_case = re.sub(r'[a-z]', '', string)\n",
    "\n",
    "# Remove “{” brackets.\n",
    "no_brackets = re.sub(r'[{}]', '', string)\n",
    "\n",
    "# Find sequences of letters AB or Ab.\n",
    "ab_sequences = re.findall(r'(AB|Ab)', string)\n",
    "\n",
    "# Find sequences of lowercase letters joined with an underscore.\n",
    "lowercase_underscore = re.findall(r'[a-z]+_[a-z]+', string)\n",
    "\n",
    "# Remove all the special characters, brackets, punctuations to get just letters and words.\n",
    "letters_and_words = re.sub(r'[^\\w\\s]', '', string)\n",
    "\n",
    "# Remove white spaces.\n",
    "no_spaces = re.sub(r'\\s', '', string)\n",
    "\n",
    "# Printing results neatly with explanations\n",
    "print(\"1. Count of repeated letters and numbers:\", repeated_count)\n",
    "print(\"\\n2. String without lowercase letters:\\n\", no_lower_case)\n",
    "print(\"\\n3. String without brackets:\\n\", no_brackets)\n",
    "print(\"\\n4. AB or Ab sequences:\\n\", ab_sequences)\n",
    "print(\"\\n5. Sequences of lowercase letters joined with an underscore:\\n\", lowercase_underscore)\n",
    "print(\"\\n6. String with only letters and words:\\n\", letters_and_words)\n",
    "print(\"\\n7. String without white spaces:\\n\", no_spaces)\n"
   ]
  },
  {
   "cell_type": "code",
   "execution_count": null,
   "id": "628c8808",
   "metadata": {},
   "outputs": [],
   "source": []
  }
 ],
 "metadata": {
  "kernelspec": {
   "display_name": "Python 3 (ipykernel)",
   "language": "python",
   "name": "python3"
  },
  "language_info": {
   "codemirror_mode": {
    "name": "ipython",
    "version": 3
   },
   "file_extension": ".py",
   "mimetype": "text/x-python",
   "name": "python",
   "nbconvert_exporter": "python",
   "pygments_lexer": "ipython3",
   "version": "3.11.5"
  }
 },
 "nbformat": 4,
 "nbformat_minor": 5
}
